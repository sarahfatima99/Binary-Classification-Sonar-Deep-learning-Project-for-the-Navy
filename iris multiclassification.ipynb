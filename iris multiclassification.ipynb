{
 "cells": [
  {
   "cell_type": "code",
   "execution_count": 1,
   "metadata": {},
   "outputs": [
    {
     "name": "stderr",
     "output_type": "stream",
     "text": [
      "Using TensorFlow backend.\n"
     ]
    }
   ],
   "source": [
    "import numpy as np\n",
    "import pandas\n",
    "from keras.models import Sequential\n",
    "from keras.layers import Dense\n",
    "from keras.wrappers.scikit_learn import KerasClassifier\n",
    "from sklearn.model_selection import cross_val_score\n",
    "from keras.utils import np_utils\n",
    "from sklearn.model_selection import KFold\n",
    "from sklearn.preprocessing import LabelEncoder\n",
    "from sklearn.pipeline import Pipeline"
   ]
  },
  {
   "cell_type": "code",
   "execution_count": 2,
   "metadata": {},
   "outputs": [],
   "source": [
    "seed=7\n",
    "np.random.seed(seed)\n"
   ]
  },
  {
   "cell_type": "code",
   "execution_count": 3,
   "metadata": {
    "scrolled": false
   },
   "outputs": [
    {
     "name": "stdout",
     "output_type": "stream",
     "text": [
      "(150,)\n"
     ]
    }
   ],
   "source": [
    "dataframe=pandas.read_csv(\"iris.data\",header=None)\n",
    "dataset=dataframe.values\n",
    "\n",
    "x=dataset[:,0:4].astype(float)\n",
    "y=dataset[:,4]\n",
    "print(y.shape)\n"
   ]
  },
  {
   "cell_type": "code",
   "execution_count": 9,
   "metadata": {},
   "outputs": [
    {
     "name": "stdout",
     "output_type": "stream",
     "text": [
      "[2 2 2 1 1 2 0 0 2 2 0 0 0 1 1 0 0 1 1 0 1 1 2 1 2 1 0 1 2 0 0 2 1 0 0 0 2\n",
      " 2 1 0 0 0 2 0 1 2 0 1 2 1 2 1 2 1 1 1 0 2 1 2 2 1 0 2 1 1 1 1 2 0 2 0 0 0\n",
      " 2 2 0 2 1 1 2 1 1 1 1 0 0 2 2 2 0 1 2 0 2 0 2 2 1 0 2 2 2 0 2 1 0 1 2 0 1\n",
      " 0 2 0 2 1 0 2 2 0 0 1 2 0 0 0 0 1 0 0 1 1 1 2 1 2 0 1 1 1 0 2 2 0 0 1 1 2\n",
      " 2 1]\n",
      "[[0. 0. 1.]\n",
      " [0. 0. 1.]\n",
      " [0. 0. 1.]\n",
      " [0. 1. 0.]\n",
      " [0. 1. 0.]\n",
      " [0. 0. 1.]\n",
      " [1. 0. 0.]\n",
      " [1. 0. 0.]\n",
      " [0. 0. 1.]\n",
      " [0. 0. 1.]\n",
      " [1. 0. 0.]\n",
      " [1. 0. 0.]\n",
      " [1. 0. 0.]\n",
      " [0. 1. 0.]\n",
      " [0. 1. 0.]\n",
      " [1. 0. 0.]\n",
      " [1. 0. 0.]\n",
      " [0. 1. 0.]\n",
      " [0. 1. 0.]\n",
      " [1. 0. 0.]\n",
      " [0. 1. 0.]\n",
      " [0. 1. 0.]\n",
      " [0. 0. 1.]\n",
      " [0. 1. 0.]\n",
      " [0. 0. 1.]\n",
      " [0. 1. 0.]\n",
      " [1. 0. 0.]\n",
      " [0. 1. 0.]\n",
      " [0. 0. 1.]\n",
      " [1. 0. 0.]\n",
      " [1. 0. 0.]\n",
      " [0. 0. 1.]\n",
      " [0. 1. 0.]\n",
      " [1. 0. 0.]\n",
      " [1. 0. 0.]\n",
      " [1. 0. 0.]\n",
      " [0. 0. 1.]\n",
      " [0. 0. 1.]\n",
      " [0. 1. 0.]\n",
      " [1. 0. 0.]\n",
      " [1. 0. 0.]\n",
      " [1. 0. 0.]\n",
      " [0. 0. 1.]\n",
      " [1. 0. 0.]\n",
      " [0. 1. 0.]\n",
      " [0. 0. 1.]\n",
      " [1. 0. 0.]\n",
      " [0. 1. 0.]\n",
      " [0. 0. 1.]\n",
      " [0. 1. 0.]\n",
      " [0. 0. 1.]\n",
      " [0. 1. 0.]\n",
      " [0. 0. 1.]\n",
      " [0. 1. 0.]\n",
      " [0. 1. 0.]\n",
      " [0. 1. 0.]\n",
      " [1. 0. 0.]\n",
      " [0. 0. 1.]\n",
      " [0. 1. 0.]\n",
      " [0. 0. 1.]\n",
      " [0. 0. 1.]\n",
      " [0. 1. 0.]\n",
      " [1. 0. 0.]\n",
      " [0. 0. 1.]\n",
      " [0. 1. 0.]\n",
      " [0. 1. 0.]\n",
      " [0. 1. 0.]\n",
      " [0. 1. 0.]\n",
      " [0. 0. 1.]\n",
      " [1. 0. 0.]\n",
      " [0. 0. 1.]\n",
      " [1. 0. 0.]\n",
      " [1. 0. 0.]\n",
      " [1. 0. 0.]\n",
      " [0. 0. 1.]\n",
      " [0. 0. 1.]\n",
      " [1. 0. 0.]\n",
      " [0. 0. 1.]\n",
      " [0. 1. 0.]\n",
      " [0. 1. 0.]\n",
      " [0. 0. 1.]\n",
      " [0. 1. 0.]\n",
      " [0. 1. 0.]\n",
      " [0. 1. 0.]\n",
      " [0. 1. 0.]\n",
      " [1. 0. 0.]\n",
      " [1. 0. 0.]\n",
      " [0. 0. 1.]\n",
      " [0. 0. 1.]\n",
      " [0. 0. 1.]\n",
      " [1. 0. 0.]\n",
      " [0. 1. 0.]\n",
      " [0. 0. 1.]\n",
      " [1. 0. 0.]\n",
      " [0. 0. 1.]\n",
      " [1. 0. 0.]\n",
      " [0. 0. 1.]\n",
      " [0. 0. 1.]\n",
      " [0. 1. 0.]\n",
      " [1. 0. 0.]\n",
      " [0. 0. 1.]\n",
      " [0. 0. 1.]\n",
      " [0. 0. 1.]\n",
      " [1. 0. 0.]\n",
      " [0. 0. 1.]\n",
      " [0. 1. 0.]\n",
      " [1. 0. 0.]\n",
      " [0. 1. 0.]\n",
      " [0. 0. 1.]\n",
      " [1. 0. 0.]\n",
      " [0. 1. 0.]\n",
      " [1. 0. 0.]\n",
      " [0. 0. 1.]\n",
      " [1. 0. 0.]\n",
      " [0. 0. 1.]\n",
      " [0. 1. 0.]\n",
      " [1. 0. 0.]\n",
      " [0. 0. 1.]\n",
      " [0. 0. 1.]\n",
      " [1. 0. 0.]\n",
      " [1. 0. 0.]\n",
      " [0. 1. 0.]\n",
      " [0. 0. 1.]\n",
      " [1. 0. 0.]\n",
      " [1. 0. 0.]\n",
      " [1. 0. 0.]\n",
      " [1. 0. 0.]\n",
      " [0. 1. 0.]\n",
      " [1. 0. 0.]\n",
      " [1. 0. 0.]\n",
      " [0. 1. 0.]\n",
      " [0. 1. 0.]\n",
      " [0. 1. 0.]\n",
      " [0. 0. 1.]\n",
      " [0. 1. 0.]\n",
      " [0. 0. 1.]\n",
      " [1. 0. 0.]\n",
      " [0. 1. 0.]\n",
      " [0. 1. 0.]\n",
      " [0. 1. 0.]\n",
      " [1. 0. 0.]\n",
      " [0. 0. 1.]\n",
      " [0. 0. 1.]\n",
      " [1. 0. 0.]\n",
      " [1. 0. 0.]\n",
      " [0. 1. 0.]\n",
      " [0. 1. 0.]\n",
      " [0. 0. 1.]\n",
      " [0. 0. 1.]\n",
      " [0. 1. 0.]]\n"
     ]
    }
   ],
   "source": [
    "encoder=LabelEncoder()\n",
    "encoder.fit(y)\n",
    "yenc=encoder.transform(y)\n",
    "dummy_y=np_utils.to_categorical(yenc)\n",
    "print(yenc)\n",
    "print(dummy_y)\n",
    "#print(x)"
   ]
  },
  {
   "cell_type": "code",
   "execution_count": 5,
   "metadata": {
    "scrolled": true
   },
   "outputs": [
    {
     "name": "stdout",
     "output_type": "stream",
     "text": [
      "WARNING:tensorflow:From C:\\Users\\Sarah Fatima\\Anaconda3\\lib\\site-packages\\tensorflow\\python\\framework\\op_def_library.py:263: colocate_with (from tensorflow.python.framework.ops) is deprecated and will be removed in a future version.\n",
      "Instructions for updating:\n",
      "Colocations handled automatically by placer.\n",
      "WARNING:tensorflow:From C:\\Users\\Sarah Fatima\\Anaconda3\\lib\\site-packages\\tensorflow\\python\\ops\\math_ops.py:3066: to_int32 (from tensorflow.python.ops.math_ops) is deprecated and will be removed in a future version.\n",
      "Instructions for updating:\n",
      "Use tf.cast instead.\n",
      "Baseline:97.33%(4.42%)\n"
     ]
    }
   ],
   "source": [
    "def build_model():\n",
    "    model = Sequential()\n",
    "    model.add(Dense(8, activation='relu', input_shape=(4,)))\n",
    "    model.add(Dense(3, activation='softmax'))\n",
    "    model.compile(optimizer='Adam',\n",
    "    loss='categorical_crossentropy',\n",
    "    metrics=['accuracy'])\n",
    "    return model\n",
    "estimator=KerasClassifier(build_fn=build_model,epochs=200,batch_size=5,verbose=0)\n",
    "kfold=KFold(n_splits=10,shuffle=True,random_state=seed)\n",
    "results=cross_val_score(estimator,x,dummy_y,cv=kfold)\n",
    "print(\"Baseline:%.2f%%(%.2f%%)\"%(results.mean()*100,results.std()*100))\n",
    "\n"
   ]
  },
  {
   "cell_type": "markdown",
   "metadata": {},
   "source": [
    "# SMALLER MODEL\n"
   ]
  },
  {
   "cell_type": "code",
   "execution_count": null,
   "metadata": {},
   "outputs": [],
   "source": [
    "def build_model():\n",
    "    model = Sequential()\n",
    "    model.add(Dense(1, activation='relu', input_shape=(4,)))\n",
    "    model.add(Dense(3, activation='softmax'))\n",
    "    model.compile(optimizer='Adam',\n",
    "    loss='categorical_crossentropy',\n",
    "    metrics=['accuracy'])\n",
    "    return model\n",
    "estimator=KerasClassifier(build_fn=build_model,epochs=200,batch_size=5,verbose=0)\n",
    "kfold=KFold(n_splits=10,shuffle=True,random_state=seed)\n",
    "results=cross_val_score(estimator,x,dummy_y,cv=kfold)\n",
    "print(\"Baseline:%.2f%%(%.2f%%)\"%(results.mean()*100,results.std()*100))"
   ]
  },
  {
   "cell_type": "markdown",
   "metadata": {},
   "source": [
    "# LARGER MODEL"
   ]
  },
  {
   "cell_type": "code",
   "execution_count": null,
   "metadata": {},
   "outputs": [],
   "source": [
    "def build_model():\n",
    "    model = Sequential()\n",
    "    model.add(Dense(90, activation='relu', input_shape=(4,)))\n",
    "    model.add(Dense(87, activation='relu'))\n",
    "    model.add(Dense(207, activation='relu'))\n",
    "    model.add(Dense(3, activation='softmax'))\n",
    "    model.compile(optimizer='Adam',\n",
    "    loss='categorical_crossentropy',\n",
    "    metrics=['accuracy'])\n",
    "    return model\n",
    "estimator=KerasClassifier(build_fn=build_model,epochs=200,batch_size=5,verbose=0)\n",
    "kfold=KFold(n_splits=10,shuffle=True,random_state=seed)\n",
    "results=cross_val_score(estimator,x,dummy_y,cv=kfold)\n",
    "print(\"Baseline:%.2f%%(%.2f%%)\"%(results.mean()*100,results.std()*100))"
   ]
  },
  {
   "cell_type": "markdown",
   "metadata": {},
   "source": [
    "# OVERFITTING MODEL\n"
   ]
  },
  {
   "cell_type": "code",
   "execution_count": null,
   "metadata": {},
   "outputs": [],
   "source": [
    "def build_model():\n",
    "    model = Sequential()\n",
    "    model.add(Dense(90, activation='relu', input_shape=(4,)))\n",
    "    model.add(Dense(87, activation='relu'))\n",
    "    model.add(Dense(207, activation='relu')) \n",
    "    model.add(Dense(3, activation='softmax'))\n",
    "    model.compile(optimizer='rmsprop',\n",
    "    loss='categorical_crossentropy',\n",
    "    metrics=['accuracy'])\n",
    "    return model\n",
    "estimator=KerasClassifier(build_fn=build_model,epochs=700,batch_size=5,verbose=0)\n",
    "kfold=KFold(n_splits=10,shuffle=True,random_state=seed)\n",
    "results=cross_val_score(estimator,x,dummy_y,cv=kfold)\n",
    "print(\"Baseline:%.2f%%(%.2f%%)\"%(results.mean()*100,results.std()*100))"
   ]
  },
  {
   "cell_type": "markdown",
   "metadata": {},
   "source": [
    "# TUNING THE MODEL"
   ]
  },
  {
   "cell_type": "code",
   "execution_count": null,
   "metadata": {},
   "outputs": [],
   "source": [
    "def build_model():\n",
    "    model = Sequential()\n",
    "    model.add(Dense(90, activation='relu', input_shape=(4,)))\n",
    "    model.add(Dense(87, activation='relu'))\n",
    "    model.add(Dense(207, activation='relu'))\n",
    "    model.add(Dense(3, activation='softmax'))\n",
    "    model.compile(optimizer='rmsprop',\n",
    "    loss='categorical_crossentropy',\n",
    "    metrics=['acc'])\n",
    "    return model\n",
    "estimator=KerasClassifier(build_fn=build_model,epochs=200,batch_size=5,verbose=0)\n",
    "kfold=KFold(n_splits=10,shuffle=True,random_state=seed)\n",
    "results=cross_val_score(estimator,x,dummy_y,cv=kfold)\n",
    "print(\"Baseline:%.2f%%(%.2f%%)\"%(results.mean()*100,results.std()*100))\n",
    "def build_model():\n",
    "    model = Sequential()\n",
    "    model.add(Dense(90, activation='relu', input_shape=(4,)))\n",
    "    model.add(Dense(87, activation='relu'))\n",
    "    model.add(Dense(207, activation='relu'))\n",
    "    model.add(Dense(3, activation='softmax'))\n",
    "    model.compile(optimizer='rmsprop',\n",
    "    loss='mse',\n",
    "    metrics=['acc'])\n",
    "    return model\n",
    "estimator=KerasClassifier(build_fn=build_model,epochs=200,batch_size=5,verbose=0)\n",
    "kfold=KFold(n_splits=10,shuffle=True,random_state=seed)\n",
    "results=cross_val_score(estimator,x,dummy_y,cv=kfold)\n",
    "print(\"Baseline:%.2f%%(%.2f%%)\"%(results.mean()*100,results.std()*100))\n",
    "def build_model():\n",
    "    model = Sequential()\n",
    "    model.add(Dense(90, activation='relu', input_shape=(4,)))\n",
    "    model.add(Dense(87, activation='tanh'))\n",
    "    model.add(Dense(207, activation='tanh'))\n",
    "    model.add(Dense(3, activation='softmax'))\n",
    "    model.compile(optimizer='rmsprop',\n",
    "    loss='categorical_crossentropy',\n",
    "    metrics=['acc'])\n",
    "    return model\n",
    "estimator=KerasClassifier(build_fn=build_model,epochs=200,batch_size=5,verbose=0)\n",
    "kfold=KFold(n_splits=10,shuffle=True,random_state=seed)\n",
    "results=cross_val_score(estimator,x,dummy_y,cv=kfold)\n",
    "print(\"Baseline:%.2f%%(%.2f%%)\"%(results.mean()*100,results.std()*100))"
   ]
  },
  {
   "cell_type": "markdown",
   "metadata": {},
   "source": [
    "# Functional API"
   ]
  },
  {
   "cell_type": "code",
   "execution_count": 6,
   "metadata": {},
   "outputs": [
    {
     "name": "stdout",
     "output_type": "stream",
     "text": [
      "Results:72.00%(29.48%)\n"
     ]
    }
   ],
   "source": [
    "from keras.models import Model\n",
    "from keras.layers import Input, Dense\n",
    "def build_model():\n",
    "    input_tensor = Input(shape=(4,))\n",
    "    x = Dense(8, activation='relu')(input_tensor)\n",
    "    x = Dense(3, activation='relu')(x)\n",
    "    output_tensor = Dense(3, activation='softmax')(x)\n",
    "    model = Model(input_tensor, output_tensor)\n",
    "    model.compile(optimizer='Adam', loss='categorical_crossentropy', metrics=['accuracy'])\n",
    "    return model\n",
    "estimator= KerasClassifier(build_fn=build_model,epochs=100,batch_size=5,verbose=0)\n",
    "kfold=KFold(n_splits=10,shuffle=True,random_state=seed)\n",
    "results=cross_val_score(estimator,x,dummy_y,cv=kfold)\n",
    "print(\"Results:%.2f%%(%.2f%%)\"%(results.mean()*100,results.std()*100))"
   ]
  },
  {
   "cell_type": "markdown",
   "metadata": {},
   "source": [
    "# WITH KERAS"
   ]
  },
  {
   "cell_type": "code",
   "execution_count": 7,
   "metadata": {
    "scrolled": true
   },
   "outputs": [
    {
     "name": "stdout",
     "output_type": "stream",
     "text": [
      "['Iris-virginica' 'Iris-virginica' 'Iris-virginica' 'Iris-versicolor'\n",
      " 'Iris-versicolor' 'Iris-virginica' 'Iris-setosa' 'Iris-setosa'\n",
      " 'Iris-virginica' 'Iris-virginica' 'Iris-setosa' 'Iris-setosa'\n",
      " 'Iris-setosa' 'Iris-versicolor' 'Iris-versicolor' 'Iris-setosa'\n",
      " 'Iris-setosa' 'Iris-versicolor' 'Iris-versicolor' 'Iris-setosa'\n",
      " 'Iris-versicolor' 'Iris-versicolor' 'Iris-virginica' 'Iris-versicolor'\n",
      " 'Iris-virginica' 'Iris-versicolor' 'Iris-setosa' 'Iris-versicolor'\n",
      " 'Iris-virginica' 'Iris-setosa' 'Iris-setosa' 'Iris-virginica'\n",
      " 'Iris-versicolor' 'Iris-setosa' 'Iris-setosa' 'Iris-setosa'\n",
      " 'Iris-virginica' 'Iris-virginica' 'Iris-versicolor' 'Iris-setosa'\n",
      " 'Iris-setosa' 'Iris-setosa' 'Iris-virginica' 'Iris-setosa'\n",
      " 'Iris-versicolor' 'Iris-virginica' 'Iris-setosa' 'Iris-versicolor'\n",
      " 'Iris-virginica' 'Iris-versicolor' 'Iris-virginica' 'Iris-versicolor'\n",
      " 'Iris-virginica' 'Iris-versicolor' 'Iris-versicolor' 'Iris-versicolor'\n",
      " 'Iris-setosa' 'Iris-virginica' 'Iris-versicolor' 'Iris-virginica'\n",
      " 'Iris-virginica' 'Iris-versicolor' 'Iris-setosa' 'Iris-virginica'\n",
      " 'Iris-versicolor' 'Iris-versicolor' 'Iris-versicolor' 'Iris-versicolor'\n",
      " 'Iris-virginica' 'Iris-setosa' 'Iris-virginica' 'Iris-setosa'\n",
      " 'Iris-setosa' 'Iris-setosa' 'Iris-virginica' 'Iris-virginica'\n",
      " 'Iris-setosa' 'Iris-virginica' 'Iris-versicolor' 'Iris-versicolor'\n",
      " 'Iris-virginica' 'Iris-versicolor' 'Iris-versicolor' 'Iris-versicolor'\n",
      " 'Iris-versicolor' 'Iris-setosa' 'Iris-setosa' 'Iris-virginica'\n",
      " 'Iris-virginica' 'Iris-virginica' 'Iris-setosa' 'Iris-versicolor'\n",
      " 'Iris-virginica' 'Iris-setosa' 'Iris-virginica' 'Iris-setosa'\n",
      " 'Iris-virginica' 'Iris-virginica' 'Iris-versicolor' 'Iris-setosa'\n",
      " 'Iris-virginica' 'Iris-virginica' 'Iris-virginica' 'Iris-setosa'\n",
      " 'Iris-virginica' 'Iris-versicolor' 'Iris-setosa' 'Iris-versicolor'\n",
      " 'Iris-virginica' 'Iris-setosa' 'Iris-versicolor' 'Iris-setosa'\n",
      " 'Iris-virginica' 'Iris-setosa' 'Iris-virginica' 'Iris-versicolor'\n",
      " 'Iris-setosa' 'Iris-virginica' 'Iris-virginica' 'Iris-setosa'\n",
      " 'Iris-setosa' 'Iris-versicolor' 'Iris-virginica' 'Iris-setosa'\n",
      " 'Iris-setosa' 'Iris-setosa' 'Iris-setosa' 'Iris-versicolor' 'Iris-setosa'\n",
      " 'Iris-setosa' 'Iris-versicolor' 'Iris-versicolor' 'Iris-versicolor'\n",
      " 'Iris-virginica' 'Iris-versicolor' 'Iris-virginica' 'Iris-setosa'\n",
      " 'Iris-versicolor' 'Iris-versicolor' 'Iris-versicolor' 'Iris-setosa'\n",
      " 'Iris-virginica' 'Iris-virginica' 'Iris-setosa' 'Iris-setosa'\n",
      " 'Iris-versicolor' 'Iris-versicolor' 'Iris-virginica' 'Iris-virginica'\n",
      " 'Iris-versicolor']\n",
      "[2, 2, 2, 1, 1, 2, 0, 0, 2, 2, 0, 0, 0, 1, 1, 0, 0, 1, 1, 0, 1, 1, 2, 1, 2, 1, 0, 1, 2, 0, 0, 2, 1, 0, 0, 0, 2, 2, 1, 0, 0, 0, 2, 0, 1, 2, 0, 1, 2, 1, 2, 1, 2, 1, 1, 1, 0, 2, 1, 2, 2, 1, 0, 2, 1, 1, 1, 1, 2, 0, 2, 0, 0, 0, 2, 2, 0, 2, 1, 1, 2, 1, 1, 1, 1, 0, 0, 2, 2, 2, 0, 1, 2, 0, 2, 0, 2, 2, 1, 0, 2, 2, 2, 0, 2, 1, 0, 1, 2, 0, 1, 0, 2, 0, 2, 1, 0, 2, 2, 0, 0, 1, 2, 0, 0, 0, 0, 1, 0, 0, 1, 1, 1, 2, 1, 2, 0, 1, 1, 1, 0, 2, 2, 0, 0, 1, 1, 2, 2, 1]\n"
     ]
    }
   ],
   "source": [
    "from numpy import argmax\n",
    "np.random.shuffle(dataset)\n",
    "np.random.shuffle(y)\n",
    "np.random.shuffle(x)\n",
    "data = y\n",
    "print(data)\n",
    "flower = 'Iris-setosa', 'Iris-versicolor','Iris-virginica'\n",
    "\n",
    "char_to_int = dict((c, i) for i, c in enumerate(flower))\n",
    "\n",
    "\n",
    "y = [char_to_int[char] for char in data]\n",
    "print(y)\n",
    "\n"
   ]
  },
  {
   "cell_type": "code",
   "execution_count": 8,
   "metadata": {},
   "outputs": [],
   "source": [
    "def build_model():\n",
    "    model = Sequential()\n",
    "    model.add(Dense(8, activation='relu', input_shape=(4,)))\n",
    "    model.add(Dense(3, activation='softmax'))\n",
    "    model.compile(optimizer='Adam',\n",
    "    loss='categorical_crossentropy',\n",
    "    metrics=['accuracy'])\n",
    "    return model"
   ]
  },
  {
   "cell_type": "code",
   "execution_count": null,
   "metadata": {},
   "outputs": [
    {
     "name": "stdout",
     "output_type": "stream",
     "text": [
      "processing fold # 0\n",
      "0.4399999976158142\n",
      "processing fold # 1\n",
      "0.20000000298023224\n",
      "processing fold # 2\n",
      "0.5600000023841858\n",
      "processing fold # 3\n"
     ]
    }
   ],
   "source": [
    "train_dataset = x[:100]\n",
    "test_dataset = x[100:]\n",
    "train_label = dummy_y[:100]\n",
    "test_label = dummy_y[100:]\n",
    "k=4\n",
    "num_val_samples = len(train_dataset) // k\n",
    "num_epochs = 200\n",
    "\n",
    "for i in range(k):\n",
    "  print('processing fold #', i)\n",
    "  val_data = train_dataset[i * num_val_samples: (i + 1) * num_val_samples]\n",
    "  val_labels = train_label[i * num_val_samples: (i + 1) * num_val_samples]\n",
    "  partial_train_data = np.concatenate(\n",
    "      [train_dataset[:i * num_val_samples],train_dataset[(i + 1) * num_val_samples:]],axis=0)\n",
    "  partial_train_labels = np.concatenate(\n",
    "      [train_label[:i * num_val_samples],\n",
    "       train_label[(i + 1) * num_val_samples:]])\n",
    "  model = build_model()\n",
    "  model.fit(partial_train_data, partial_train_labels , validation_data=(val_data, val_labels), epochs=num_epochs, batch_size=1, verbose=0)\n",
    "  loss , acc = model.evaluate(val_data, val_labels , verbose=0)\n",
    "  print(acc)\n",
    "#model.train(xtrain)"
   ]
  },
  {
   "cell_type": "code",
   "execution_count": null,
   "metadata": {
    "scrolled": false
   },
   "outputs": [],
   "source": [
    "\n",
    "ytrain=y[:100]\n",
    "k=4\n",
    "\n",
    "#print(num_val_samples)\n",
    "num_epochs = 100\n",
    "all_mae_histories = []\n",
    "for i in range(k):\n",
    "    num_val_samples = len(xtrain)\n",
    "    num_\n",
    "    print('processing fold #', i)\n",
    "    val_data = xtrain[i * (num_val_samples//k): (i + 1) * (num_val_samples//k)]\n",
    "\n",
    "    val_targets = ytrain[i * (num_val_samples//k): (i + 1) * (num_val_samples//k)]\n",
    "    partial_train_data = np.concatenate(\n",
    "    [xtrain[:i * num_val_samples],\n",
    "    xtrain[(i + 1) * num_val_samples:]],\n",
    "    axis=0)\n",
    "    partial_train_targets = np.concatenate(\n",
    "    [ytrain[:i * num_val_samples],\n",
    "    ytrain[(i + 1) * num_val_samples:]],\n",
    "    axis=0)\n",
    "\n",
    "\n",
    "\n",
    "\n",
    "#model = build_model()\n",
    "#model.fit(partial_train_data, partial_train_targets,epochs=num_epochs, batch_size=5,verbose=0)\n",
    "#results = model.evaluate(xtrain,ytrain)\n"
   ]
  },
  {
   "cell_type": "code",
   "execution_count": null,
   "metadata": {},
   "outputs": [],
   "source": [
    "def build_model():\n",
    "    \n",
    "    model = Sequential()\n",
    "    model.add(Dense(8, activation='relu',  input_shape=(4,)))\n",
    "    model.add(Dense(1, activation='softmax')  )    \n",
    "    from keras import optimizers\n",
    "    model.compile(optimizer='rmsprop', loss='binary_crossentropy', metrics=['accuracy'])\n",
    "    return model\n",
    "model=build_model()\n",
    "model.fit(x[100:], y[100:], epochs=60, batch_size=5)\n",
    "results = model.evaluate(x[100:], y[100:])"
   ]
  },
  {
   "cell_type": "code",
   "execution_count": null,
   "metadata": {},
   "outputs": [],
   "source": []
  }
 ],
 "metadata": {
  "kernelspec": {
   "display_name": "Python 3",
   "language": "python",
   "name": "python3"
  },
  "language_info": {
   "codemirror_mode": {
    "name": "ipython",
    "version": 3
   },
   "file_extension": ".py",
   "mimetype": "text/x-python",
   "name": "python",
   "nbconvert_exporter": "python",
   "pygments_lexer": "ipython3",
   "version": "3.7.1"
  }
 },
 "nbformat": 4,
 "nbformat_minor": 2
}
